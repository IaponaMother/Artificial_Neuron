{
  "nbformat": 4,
  "nbformat_minor": 0,
  "metadata": {
    "colab": {
      "name": "CNN_fashionMNIST.ipynb",
      "provenance": [],
      "authorship_tag": "ABX9TyO8TiRbubzns8TlnlgZApXM",
      "include_colab_link": true
    },
    "kernelspec": {
      "name": "python3",
      "display_name": "Python 3"
    },
    "language_info": {
      "name": "python"
    }
  },
  "cells": [
    {
      "cell_type": "markdown",
      "metadata": {
        "id": "view-in-github",
        "colab_type": "text"
      },
      "source": [
        "<a href=\"https://colab.research.google.com/github/IaponaMother/Artificial_Neuron/blob/master/CNN_fashionMNIST.ipynb\" target=\"_parent\"><img src=\"https://colab.research.google.com/assets/colab-badge.svg\" alt=\"Open In Colab\"/></a>"
      ]
    },
    {
      "cell_type": "code",
      "source": [
        "import tensorflow.keras as keras\n",
        "import matplotlib.pyplot as plt\n",
        "import numpy as np\n",
        "from tensorflow.keras.models import Sequential\n",
        "from tensorflow.keras.layers import Dense\n",
        "from tensorflow.keras.layers import Flatten\n",
        "from tensorflow.keras.layers import Conv2D\n",
        "from tensorflow.keras.layers import Dropout\n",
        "from tensorflow.keras.layers import MaxPooling2D, AveragePooling2D\n"
      ],
      "metadata": {
        "id": "R5nivZ7tuBPV"
      },
      "execution_count": 19,
      "outputs": []
    },
    {
      "cell_type": "code",
      "execution_count": 20,
      "metadata": {
        "id": "uApLov72lyZt"
      },
      "outputs": [],
      "source": [
        "fashion_mnist = keras.datasets.fashion_mnist\n",
        "(train_images, train_labels), (test_images, test_labels) = fashion_mnist.load_data()"
      ]
    },
    {
      "cell_type": "code",
      "source": [
        "model_ = Sequential([\n",
        "                     Conv2D(32, (3,3), padding = 'same', activation='relu', input_shape=(28, 28, 1)),\n",
        "\n",
        "                     MaxPooling2D((2,2), strides=2),\n",
        "\n",
        "                     Conv2D(64, (3,3), padding = 'same', activation='relu'),\n",
        "                     MaxPooling2D((2,2), strides=2),\n",
        "                     Flatten(),\n",
        "                     Dense(128, activation='relu'),\n",
        "                     Dense(10, activation='softmax')\n",
        "                    \n",
        "])\n",
        "model_.compile(optimizer = 'adam', loss = keras.losses.SparseCategoricalCrossentropy(from_logits=True), metrics=['accuracy'])\n",
        "\n",
        "history_ = model_.fit(train_images, train_labels, batch_size = 32, epochs= 5, validation_split=0.2)"
      ],
      "metadata": {
        "colab": {
          "base_uri": "https://localhost:8080/"
        },
        "id": "WBoahyaG7yrN",
        "outputId": "7a1d6b6b-dd6a-4cb4-bd4d-e212b6fd96bb"
      },
      "execution_count": 22,
      "outputs": [
        {
          "output_type": "stream",
          "name": "stdout",
          "text": [
            "Epoch 1/5\n"
          ]
        },
        {
          "output_type": "stream",
          "name": "stderr",
          "text": [
            "/usr/local/lib/python3.7/dist-packages/tensorflow/python/util/dispatch.py:1082: UserWarning: \"`sparse_categorical_crossentropy` received `from_logits=True`, but the `output` argument was produced by a sigmoid or softmax activation and thus does not represent logits. Was this intended?\"\n",
            "  return dispatch_target(*args, **kwargs)\n"
          ]
        },
        {
          "output_type": "stream",
          "name": "stdout",
          "text": [
            "1500/1500 [==============================] - 45s 30ms/step - loss: 0.7161 - accuracy: 0.8484 - val_loss: 0.3416 - val_accuracy: 0.8783\n",
            "Epoch 2/5\n",
            "1500/1500 [==============================] - 45s 30ms/step - loss: 0.2960 - accuracy: 0.8920 - val_loss: 0.3176 - val_accuracy: 0.8832\n",
            "Epoch 3/5\n",
            "1500/1500 [==============================] - 44s 29ms/step - loss: 0.2529 - accuracy: 0.9067 - val_loss: 0.2621 - val_accuracy: 0.9042\n",
            "Epoch 4/5\n",
            "1500/1500 [==============================] - 44s 29ms/step - loss: 0.2242 - accuracy: 0.9169 - val_loss: 0.2767 - val_accuracy: 0.9013\n",
            "Epoch 5/5\n",
            "1500/1500 [==============================] - 44s 29ms/step - loss: 0.2030 - accuracy: 0.9254 - val_loss: 0.2768 - val_accuracy: 0.9023\n"
          ]
        }
      ]
    },
    {
      "cell_type": "code",
      "source": [
        "test_loss, test_acc = model_.evaluate(test_images, test_labels, verbose = 2)\n",
        "print(\"Test accuracy: \" , test_acc)"
      ],
      "metadata": {
        "colab": {
          "base_uri": "https://localhost:8080/"
        },
        "id": "yq8fya7q90Vs",
        "outputId": "c18f331c-0c5a-4f5d-dfec-7eac42d1520e"
      },
      "execution_count": 23,
      "outputs": [
        {
          "output_type": "stream",
          "name": "stderr",
          "text": [
            "/usr/local/lib/python3.7/dist-packages/tensorflow/python/util/dispatch.py:1082: UserWarning: \"`sparse_categorical_crossentropy` received `from_logits=True`, but the `output` argument was produced by a sigmoid or softmax activation and thus does not represent logits. Was this intended?\"\n",
            "  return dispatch_target(*args, **kwargs)\n"
          ]
        },
        {
          "output_type": "stream",
          "name": "stdout",
          "text": [
            "313/313 - 3s - loss: 0.3020 - accuracy: 0.8995 - 3s/epoch - 9ms/step\n",
            "Test accuracy:  0.8995000123977661\n"
          ]
        }
      ]
    }
  ]
}