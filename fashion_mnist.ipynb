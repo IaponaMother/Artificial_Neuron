{
  "nbformat": 4,
  "nbformat_minor": 0,
  "metadata": {
    "colab": {
      "name": "fashion_mnist.ipynb",
      "provenance": [],
      "collapsed_sections": [],
      "authorship_tag": "ABX9TyMKCaugGRyD2zBxxApapBxN",
      "include_colab_link": true
    },
    "kernelspec": {
      "name": "python3",
      "display_name": "Python 3"
    },
    "language_info": {
      "name": "python"
    }
  },
  "cells": [
    {
      "cell_type": "markdown",
      "metadata": {
        "id": "view-in-github",
        "colab_type": "text"
      },
      "source": [
        "<a href=\"https://colab.research.google.com/github/IaponaMother/Artificial_Neuron/blob/master/fashion_mnist.ipynb\" target=\"_parent\"><img src=\"https://colab.research.google.com/assets/colab-badge.svg\" alt=\"Open In Colab\"/></a>"
      ]
    },
    {
      "cell_type": "code",
      "source": [
        "\n",
        "import tensorflow.keras as keras\n",
        "import matplotlib.pyplot as plt"
      ],
      "metadata": {
        "id": "ffiTMgtemncx"
      },
      "execution_count": null,
      "outputs": []
    },
    {
      "cell_type": "code",
      "execution_count": null,
      "metadata": {
        "id": "uApLov72lyZt"
      },
      "outputs": [],
      "source": [
        "fashion_mnist = keras.datasets.fashion_mnist\n",
        "(train_images, train_labels), (test_images, test_labels) = fashion_mnist.load_data()"
      ]
    },
    {
      "cell_type": "code",
      "source": [
        "plt.figure()\n",
        "plt.imshow(train_images[0])\n",
        "train_labels[0]\n"
      ],
      "metadata": {
        "id": "-7M1S4Gm0L5B"
      },
      "execution_count": null,
      "outputs": []
    },
    {
      "cell_type": "code",
      "source": [
        "train_images= train_images / 255.0\n",
        "test_images = test_images / 255.0\n",
        "plt.figure(figsize=(10, 10), dpi = 200)\n",
        "for i in range(25):\n",
        "  plt.subplot(5, 5, i + 1)\n",
        "  plt.xticks([])\n",
        "  plt.yticks([])\n",
        "  plt.grid(False)\n",
        "  plt.imshow(train_images[i], cmap= plt.cm.binary)\n",
        "plt.show()"
      ],
      "metadata": {
        "id": "axl4m_HWs1b2"
      },
      "execution_count": null,
      "outputs": []
    },
    {
      "cell_type": "code",
      "source": [
        "model = keras.Sequential([\n",
        "    keras.layers.Flatten(input_shape=(28, 28)),\n",
        "    keras.layers.Dense(300, activation = 'relu'),\n",
        "    keras.layers.Dense(250, activation = 'relu'),\n",
        "    keras.layers.Dense(10)\n",
        "])\n",
        "\n",
        "\n",
        "model.compile(optimizer = 'adam', loss = keras.losses.SparseCategoricalCrossentropy(from_logits=True), metrics=['accuracy'])"
      ],
      "metadata": {
        "id": "wMvTxjeu4Jaw"
      },
      "execution_count": 51,
      "outputs": []
    },
    {
      "cell_type": "code",
      "source": [
        "\n",
        "history = model.fit(train_images, train_labels, epochs= 10, validation_split=0.1)"
      ],
      "metadata": {
        "colab": {
          "base_uri": "https://localhost:8080/"
        },
        "id": "aFkpnY3Y4zWH",
        "outputId": "51fbd850-efbc-495c-cc80-9cad5b4e705b"
      },
      "execution_count": null,
      "outputs": [
        {
          "output_type": "stream",
          "name": "stdout",
          "text": [
            "Epoch 1/10\n",
            "1688/1688 [==============================] - 11s 6ms/step - loss: 0.4725 - accuracy: 0.8289 - val_loss: 0.3887 - val_accuracy: 0.8633\n",
            "Epoch 2/10\n",
            "1688/1688 [==============================] - 11s 6ms/step - loss: 0.3599 - accuracy: 0.8662 - val_loss: 0.3521 - val_accuracy: 0.8717\n",
            "Epoch 3/10\n",
            "1688/1688 [==============================] - 10s 6ms/step - loss: 0.3240 - accuracy: 0.8802 - val_loss: 0.3677 - val_accuracy: 0.8708\n",
            "Epoch 4/10\n",
            "1688/1688 [==============================] - 10s 6ms/step - loss: 0.2968 - accuracy: 0.8900 - val_loss: 0.3670 - val_accuracy: 0.8717\n",
            "Epoch 5/10\n",
            "1688/1688 [==============================] - 10s 6ms/step - loss: 0.2821 - accuracy: 0.8944 - val_loss: 0.3238 - val_accuracy: 0.8873\n",
            "Epoch 6/10\n",
            "1688/1688 [==============================] - 11s 6ms/step - loss: 0.2661 - accuracy: 0.8993 - val_loss: 0.3232 - val_accuracy: 0.8817\n",
            "Epoch 7/10\n",
            "1688/1688 [==============================] - 11s 6ms/step - loss: 0.2532 - accuracy: 0.9050 - val_loss: 0.3310 - val_accuracy: 0.8833\n",
            "Epoch 8/10\n",
            "1688/1688 [==============================] - 11s 6ms/step - loss: 0.2426 - accuracy: 0.9091 - val_loss: 0.3376 - val_accuracy: 0.8868\n",
            "Epoch 9/10\n",
            "1688/1688 [==============================] - 11s 6ms/step - loss: 0.2321 - accuracy: 0.9127 - val_loss: 0.3537 - val_accuracy: 0.8812\n",
            "Epoch 10/10\n",
            "1688/1688 [==============================] - 11s 6ms/step - loss: 0.2227 - accuracy: 0.9152 - val_loss: 0.3080 - val_accuracy: 0.8925\n"
          ]
        }
      ]
    },
    {
      "cell_type": "code",
      "source": [
        ""
      ],
      "metadata": {
        "id": "vSukwE1A5lgO"
      },
      "execution_count": null,
      "outputs": []
    },
    {
      "cell_type": "code",
      "source": [
        "train_images.shape"
      ],
      "metadata": {
        "colab": {
          "base_uri": "https://localhost:8080/"
        },
        "id": "pV1MMKCRnKTZ",
        "outputId": "f1e033ab-c19f-4687-eb31-71c4b2580d2c"
      },
      "execution_count": null,
      "outputs": [
        {
          "output_type": "execute_result",
          "data": {
            "text/plain": [
              "(60000, 28, 28)"
            ]
          },
          "metadata": {},
          "execution_count": 9
        }
      ]
    },
    {
      "cell_type": "code",
      "source": [
        "plt.plot(history.history[\"accuracy\"],\n",
        "         label = \"Доля правильных ответов на обучающем наборе\")\n",
        "plt.plot(history.history[\"val_accuracy\"],\n",
        "         label=\"Доля правильных ответов на проверочном наборе\")\n",
        "plt.xlabel(\"Эпоха обучения\")\n",
        "plt.ylabel(\"Доля правильных ответов\")\n",
        "plt.legend()\n",
        "plt.show()"
      ],
      "metadata": {
        "id": "oeTSME4c_2-s",
        "colab": {
          "base_uri": "https://localhost:8080/",
          "height": 279
        },
        "outputId": "ac27feca-cb13-4c4e-c339-1a9cfc38d8f3"
      },
      "execution_count": null,
      "outputs": [
        {
          "output_type": "display_data",
          "data": {
            "text/plain": [
              "<Figure size 432x288 with 1 Axes>"
            ],
            "image/png": "[encoded data removed]"
          },
          "metadata": {
            "needs_background": "light"
          }
        }
      ]
    },
    {
      "cell_type": "code",
      "source": [
        "test_loss, test_acc = model.evaluate(test_images, test_labels, verbose = 2)\n",
        "print(\"Test accuracy: \" , test_acc)"
      ],
      "metadata": {
        "colab": {
          "base_uri": "https://localhost:8080/"
        },
        "id": "ZizZDG3JyqNv",
        "outputId": "7fa9d5a0-6503-42e2-ffad-bdd520ba919e"
      },
      "execution_count": null,
      "outputs": [
        {
          "output_type": "stream",
          "name": "stdout",
          "text": [
            "313/313 - 1s - loss: 0.3309 - accuracy: 0.8872 - 851ms/epoch - 3ms/step\n",
            "Test accuracy:  0.8871999979019165\n"
          ]
        }
      ]
    },
    {
      "cell_type": "code",
      "source": [
        "mnist = keras.datasets.mnist\n",
        "(train_images_, train_labels_), (test_images_, test_labels_) = mnist.load_data() \n",
        "print(test_images_.size)\n",
        "print(test_labels_.size)\n",
        "history_ = model.fit(train_images_, train_labels_, epochs= 20, validation_split=0.1)"
      ],
      "metadata": {
        "colab": {
          "base_uri": "https://localhost:8080/"
        },
        "id": "0_m--Wjw0eUz",
        "outputId": "06253e4d-cd58-440b-ceba-19014969b548"
      },
      "execution_count": 52,
      "outputs": [
        {
          "output_type": "stream",
          "name": "stdout",
          "text": [
            "7840000\n",
            "10000\n",
            "Epoch 1/20\n",
            "1688/1688 [==============================] - 9s 5ms/step - loss: 1.5166 - accuracy: 0.8933 - val_loss: 0.2506 - val_accuracy: 0.9412\n",
            "Epoch 2/20\n",
            "1688/1688 [==============================] - 9s 5ms/step - loss: 0.2252 - accuracy: 0.9443 - val_loss: 0.1451 - val_accuracy: 0.9608\n",
            "Epoch 3/20\n",
            "1688/1688 [==============================] - 9s 5ms/step - loss: 0.1754 - accuracy: 0.9526 - val_loss: 0.1530 - val_accuracy: 0.9578\n",
            "Epoch 4/20\n",
            "1688/1688 [==============================] - 9s 5ms/step - loss: 0.1534 - accuracy: 0.9582 - val_loss: 0.1381 - val_accuracy: 0.9678\n",
            "Epoch 5/20\n",
            "1688/1688 [==============================] - 9s 5ms/step - loss: 0.1436 - accuracy: 0.9614 - val_loss: 0.1266 - val_accuracy: 0.9703\n",
            "Epoch 6/20\n",
            "1688/1688 [==============================] - 9s 5ms/step - loss: 0.1232 - accuracy: 0.9662 - val_loss: 0.1218 - val_accuracy: 0.9695\n",
            "Epoch 7/20\n",
            "1688/1688 [==============================] - 10s 6ms/step - loss: 0.1131 - accuracy: 0.9687 - val_loss: 0.1258 - val_accuracy: 0.9698\n",
            "Epoch 8/20\n",
            "1688/1688 [==============================] - 10s 6ms/step - loss: 0.1004 - accuracy: 0.9733 - val_loss: 0.1523 - val_accuracy: 0.9655\n",
            "Epoch 9/20\n",
            "1688/1688 [==============================] - 9s 6ms/step - loss: 0.0929 - accuracy: 0.9751 - val_loss: 0.1462 - val_accuracy: 0.9685\n",
            "Epoch 10/20\n",
            "1688/1688 [==============================] - 10s 6ms/step - loss: 0.0954 - accuracy: 0.9756 - val_loss: 0.1335 - val_accuracy: 0.9692\n",
            "Epoch 11/20\n",
            "1688/1688 [==============================] - 10s 6ms/step - loss: 0.0813 - accuracy: 0.9789 - val_loss: 0.1302 - val_accuracy: 0.9727\n",
            "Epoch 12/20\n",
            "1688/1688 [==============================] - 10s 6ms/step - loss: 0.0749 - accuracy: 0.9810 - val_loss: 0.1125 - val_accuracy: 0.9770\n",
            "Epoch 13/20\n",
            "1688/1688 [==============================] - 10s 6ms/step - loss: 0.0746 - accuracy: 0.9812 - val_loss: 0.1383 - val_accuracy: 0.9725\n",
            "Epoch 14/20\n",
            "1688/1688 [==============================] - 10s 6ms/step - loss: 0.0723 - accuracy: 0.9819 - val_loss: 0.1489 - val_accuracy: 0.9708\n",
            "Epoch 15/20\n",
            "1688/1688 [==============================] - 10s 6ms/step - loss: 0.0674 - accuracy: 0.9841 - val_loss: 0.1326 - val_accuracy: 0.9745\n",
            "Epoch 16/20\n",
            "1688/1688 [==============================] - 10s 6ms/step - loss: 0.0620 - accuracy: 0.9845 - val_loss: 0.1685 - val_accuracy: 0.9697\n",
            "Epoch 17/20\n",
            "1688/1688 [==============================] - 10s 6ms/step - loss: 0.0633 - accuracy: 0.9849 - val_loss: 0.1382 - val_accuracy: 0.9742\n",
            "Epoch 18/20\n",
            "1688/1688 [==============================] - 10s 6ms/step - loss: 0.0707 - accuracy: 0.9848 - val_loss: 0.1694 - val_accuracy: 0.9768\n",
            "Epoch 19/20\n",
            "1688/1688 [==============================] - 10s 6ms/step - loss: 0.0564 - accuracy: 0.9873 - val_loss: 0.1862 - val_accuracy: 0.9735\n",
            "Epoch 20/20\n",
            "1688/1688 [==============================] - 9s 5ms/step - loss: 0.0533 - accuracy: 0.9877 - val_loss: 0.1456 - val_accuracy: 0.9773\n"
          ]
        }
      ]
    },
    {
      "cell_type": "code",
      "source": [
        "plt.plot(history_.history[\"accuracy\"],\n",
        "         label = \"Доля правильных ответов на обучающем наборе\")\n",
        "plt.plot(history_.history[\"val_accuracy\"],\n",
        "         label=\"Доля правильных ответов на проверочном наборе\")\n",
        "plt.xlabel(\"Эпоха обучения\")\n",
        "plt.ylabel(\"Доля правильных ответов\")\n",
        "plt.legend()\n",
        "plt.show()"
      ],
      "metadata": {
        "id": "yK9nw5Sq0k6C",
        "colab": {
          "base_uri": "https://localhost:8080/",
          "height": 279
        },
        "outputId": "636cc314-4596-4efe-f5bd-2b1dd82cd19a"
      },
      "execution_count": 53,
      "outputs": [
        {
          "output_type": "display_data",
          "data": {
            "text/plain": [
              "<Figure size 432x288 with 1 Axes>"
            ],
            "image/png": "[encoded data removed]"
          },
          "metadata": {
            "needs_background": "light"
          }
        }
      ]
    },
    {
      "cell_type": "code",
      "source": [
        "test_loss_, test_acc_ = model.evaluate(test_images_, test_labels_, verbose = 2)\n",
        "print(\"Test accuracy: \" , test_acc_)"
      ],
      "metadata": {
        "colab": {
          "base_uri": "https://localhost:8080/"
        },
        "id": "0iYT5xcn2n09",
        "outputId": "9ee372f0-47b4-4b5c-878c-767f051fe728"
      },
      "execution_count": 55,
      "outputs": [
        {
          "output_type": "stream",
          "name": "stdout",
          "text": [
            "313/313 - 1s - loss: 0.1669 - accuracy: 0.9744 - 678ms/epoch - 2ms/step\n",
            "Test accuracy:  0.974399983882904\n"
          ]
        }
      ]
    }
  ]
}